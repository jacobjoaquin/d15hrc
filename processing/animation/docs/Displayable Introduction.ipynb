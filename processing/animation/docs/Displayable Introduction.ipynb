{
 "cells": [
  {
   "cell_type": "markdown",
   "metadata": {},
   "source": [
    "# Displayable Intro\n",
    "\n",
    "Welcome to Displayable! An animation toolkit for all your sequencing and live performance means.\n",
    "\n",
    "This is a living document that will be updated regularly. So check back often.\n",
    "\n",
    "## What is Displayable?\n",
    "\n",
    "Displayable is animation toolkit / library for Processing for creating, sequencing, and modulating animations based on [MUSIC-N](https://en.wikipedia.org/wiki/MUSIC-N) principles. It's animation software built like a computer music language, though builds on fundamental Java principles, and is highly extensible thanks to Java's OOP nature.\n",
    "\n",
    "While this was developed with the intent of creating animations for LED art, the design of Displayable allows it to be used as a general purpose animation library. While we're using it for sequencing for the burn, it does support realtime interaction as well.\n",
    "\n",
    "Currently, Displayable is known as \"moonpaper\" in the repo but this will change after the burn, because tis a silly name, and Displayable better represents its roots. In fact, most everything in the classes / methods will be renamed post-burn.  Don't worry, I'll update all the animation code written for the burn so it doesn't suffer from data loss."
   ]
  },
  {
   "cell_type": "markdown",
   "metadata": {},
   "source": [
    "## Installing\n",
    "\n",
    "Displayable is built for Processing 2.2.1. And requires the following two dependencies to work.\n",
    "\n",
    "* Moonpaper v0.0.1 Library for Processing<br>https://github.com/jacobjoaquin/Moonpaper/releases/download/v20150718.0-alpha/Moonpaper-v0.0.1.zip\n",
    "\n",
    "* UDP Processing Library<br>http://ubaa.net/shared/processing/udp/\n",
    "\n",
    "The current github repo with examples can be found here:\n",
    "\n",
    "https://github.com/jacobjoaquin/d15hrc"
   ]
  },
  {
   "cell_type": "markdown",
   "metadata": {},
   "source": [
    "## Displayable Principles\n",
    "\n",
    "### diskit.pde\n",
    "\n",
    "This is a single PDE file that contains all the supporting classes and methods required for your animations, sequences, simulators, etc.  The master version can be found [here](https://github.com/jacobjoaquin/d15hrc/tree/master/processing/3d/displayabletoolkit).\n",
    "\n",
    "This file will be updated from time to time. Some breakage may occur in the process.\n",
    "\n",
    "### Building a Virtual LED Structure\n",
    "\n",
    "A virutal LED structure is created by specifying the two endpoints of a strip, and setting the density. See the [createTeatro](https://github.com/jacobjoaquin/d15hrc/tree/master/processing/3d/createTeatro) sketch for details.\n",
    "\n",
    "Once you are happy, use the same saved JSON file for your animations and simulator. If they don't match, you're gonna have a bad time.\n",
    "\n",
    "\n",
    "\n",
    "### class Strip\n",
    "\n",
    "This is the class in which strips are instantied. Generally, they'll be built from the exported JSON file.\n",
    "\n",
    "_Caution:_ This class has the data structure `ArrayList<LED> lights`, and `class LED` contains `PVector position` and `color c`. **Don't change these values, ever!** If you change them, you're gonna have a bad time.\n",
    "\n",
    "\n",
    "### class PixelMap\n",
    "\n",
    "The PixelMap is a class that maps your `strips` to a 2D data structure. It loads in each strip in order of the JSON file, and creates `PGraphics pg`. \n",
    "\n",
    "- Each strip is a row in the pg.\n",
    "- Each row in the pg will not be used, since strips will vary in length and density.\n",
    "\n",
    "\n",
    "### JSON\n",
    "\n",
    "This file is used be the animations, sequences, and simulators. The JSON file stores each an ordered list of strips, and the order matters. This should be handled automagically on the back end. Each strip object in the JSON becomes a row the the `PixelMap.pg` in the order they are read. \n",
    "\n",
    "Each strip contains the follow:\n",
    "\n",
    "- id: int unique ID\n",
    "- startPoint: float array of x, y, z\n",
    "- endPoint: float array of x, y, z\n",
    "- density: int number of LEDs per meter\n",
    "- numberOfLights: int total number of LEDs for the strip\n",
    "\n",
    "Example:\n",
    "```javascript\n",
    "[\n",
    "{\n",
    "    \"id\": 0,\n",
    "    \"endPoint\": [\n",
    "      -600,\n",
    "      0,\n",
    "      0\n",
    "    ],\n",
    "    \"density\": 30,\n",
    "    \"numberOfLights\": 173,\n",
    "    \"startPoint\": [\n",
    "      -800,\n",
    "      500,\n",
    "      200\n",
    "    ]\n",
    "  },\n",
    "]\n",
    "```\n"
   ]
  },
  {
   "cell_type": "markdown",
   "metadata": {},
   "source": [
    "## Designing Animations for the Teatro Di Sorient\n",
    "\n",
    "### Examples\n",
    "\n",
    "You'll find the tutorial examples in [/processing/animation](https://github.com/jacobjoaquin/d15hrc/tree/master/processing/animation).\n",
    "\n",
    "#### ExampleJustNoise\n",
    "\n",
    "This example just selects a black or white pixel for each pixel in the canvas. It will also generate random pixels on the canvas that aren't being used by and LED strip. Remember that each row in PixelMap represents a strip of varying length and density.\n",
    "\n",
    "[Source](https://github.com/jacobjoaquin/d15hrc/tree/master/processing/animation)"
   ]
  },
  {
   "cell_type": "markdown",
   "metadata": {},
   "source": [
    "#### ExampleSimpleSweep\n",
    "\n",
    "This example moves a simple scan line that moves from left to right across the entire canvas. Since strips vary in length and density, some strips will be without lit light once the scan line extends beyond the length those strips.\n",
    "\n",
    "[Source](https://github.com/jacobjoaquin/d15hrc/tree/master/processing/animation/ExampleSimpleSweep)"
   ]
  },
  {
   "cell_type": "markdown",
   "metadata": {},
   "source": [
    "####ExampleStripSweep\n",
    "\n",
    "This follows the same principle of the scanline in `ExampleSimpleSweep`, except that it does so on per strip basis. The internal position of the lit pixel wraps to the beginning once it extends beyong the length of the strip.\n",
    "\n",
    "[Source](https://github.com/jacobjoaquin/d15hrc/tree/master/processing/animation/ExampleStripSweep)"
   ]
  }
 ],
 "metadata": {
  "kernelspec": {
   "display_name": "IPython (Python 3)",
   "language": "python",
   "name": "python3"
  },
  "language_info": {
   "codemirror_mode": {
    "name": "ipython",
    "version": 3
   },
   "file_extension": ".py",
   "mimetype": "text/x-python",
   "name": "python",
   "nbconvert_exporter": "python",
   "pygments_lexer": "ipython3",
   "version": "3.4.3"
  }
 },
 "nbformat": 4,
 "nbformat_minor": 0
}
